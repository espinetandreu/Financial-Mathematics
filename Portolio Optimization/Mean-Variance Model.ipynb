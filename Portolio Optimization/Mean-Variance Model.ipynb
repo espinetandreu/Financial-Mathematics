{
 "cells": [
  {
   "cell_type": "markdown",
   "id": "b73ae027-0fa6-45c9-bc09-7d384a56aada",
   "metadata": {},
   "source": [
    "# Mean-Variance Model"
   ]
  },
  {
   "cell_type": "markdown",
   "id": "e87e3764-215c-4aaf-a727-8fac8e59e98c",
   "metadata": {},
   "source": [
    "The Mean-Variance Model aims to determine a weight vector $w$ that strikes a balance between risk and return. This is achieved by minimizing the portfolio risk ($\\sigma$) while simultaneously maximizing the expected returns $\\mu_p = E(z)$.\n",
    "\n",
    "\n",
    "For a given set of weights $w$, the portfolio returns can be expressed as $z_p = z^t w$, accompanied by a corresponding risk $\\sigma^2_p = w^t \\Sigma w$. Each weight vector $w$ maps to a specific point in the $(\\mu, \\sigma)$ plane, forming the efficient frontier.\n",
    "\n",
    "I will be using the follwing acronyms to refer to the two different types of portfolios:\n",
    "1. **Basic Portfolio**: Portfolio without Risk-Free Rate\n",
    "2. **RFR Portfolio**: Portfolio with Risk-Free Rate"
   ]
  },
  {
   "cell_type": "code",
   "execution_count": 1,
   "id": "39938dfb-3291-4d25-955d-4c58011426f6",
   "metadata": {},
   "outputs": [],
   "source": [
    "import numpy as np\n",
    "import pandas as pd\n",
    "import matplotlib.pyplot as plt"
   ]
  },
  {
   "cell_type": "code",
   "execution_count": 2,
   "id": "fcb448c5-61a7-4e6f-926e-3111ca86cd34",
   "metadata": {
    "tags": []
   },
   "outputs": [],
   "source": [
    "data = pd.read_csv('resources/MVM_data.csv')\n",
    "r = 0.04\n",
    "R = np.full(6, r)\n",
    "mu = data['mu'].to_numpy()\n",
    "cov = data.iloc[:, 2:].to_numpy()\n",
    "icov = np.linalg.inv(cov)"
   ]
  },
  {
   "attachments": {
    "038d3f7e-5ee2-44ff-a5d4-a8c9881aad97.png": {
     "image/png": "[encoded data removed]"
    }
   },
   "cell_type": "markdown",
   "id": "e043dbce-73ec-4d93-9bc3-6ecabdb7726d",
   "metadata": {},
   "source": [
    "## Efficient Portfolios\n",
    "\n",
    "Efficient portfolios lie on the efficient frontier, representing the optimal trade-off between risk and return. These portfolios minimize variance for a given expected return or maximize expected returns for a given level of risk.\n",
    "\n",
    "### Basic Portfolio\n",
    "\n",
    "To find the minimum variance portfolio for a specific expected return ($\\mu_o$), an optimization is performed with two constraints:\n",
    "\n",
    "- $\\sum w_i = 1$ where $w_i \\geq 0$\n",
    "- $\\sum E(z_i) w_i = \\mu_o$\n",
    "\n",
    "One common approach is using Lagrange Multipliers. However, I've chosen a geometric solution in ${\\rm I\\!R}^n$ with the inner product metric $\\Sigma$ defined as $<u, v> = u^t \\Sigma v$, where $u$ and $v$ are portfolio weights.\n",
    "\n",
    "Then a porfolio $u=(u_i)$ is a vector of ${\\rm I\\!R}^n$ with lenght $\\sqrt{<u, u>}=\\sqrt{\\sigma^2_u}$ and angle $cos{\\theta} = \\frac{<u, u>}{\\sqrt{<u, u><v, v>}}$.\n",
    "\n",
    "Using the inner product metric $\\Sigma$ and the optimization restricitions we can find the mathematical expressions for this approach:\n",
    "\n",
    "\n",
    "1.  The direction vector $v_1$ of the porfolio hyperplane is given by $<w,v_1>=1$:\n",
    "\n",
    "$$\n",
    "v_1 = \\Sigma^{-1}1 \\rightarrow <w,v_1>= w^t \\Sigma (\\Sigma^{-1}1) =  \\sum w_i =1\n",
    "$$\n",
    "\n",
    "Giving the **Global Minimum Variance Portfolio** ($w_g$):\n",
    "\n",
    "$$\n",
    "w_{g} =  \\frac{v_1}{<v_1,v_1>} = \\frac{v_1}{1^t \\Sigma^{-1}1}\n",
    "$$\n",
    "\n",
    "2. The direction vector $v_\\mu$ of the porfolio hyperplane with expected returns $\\mu_p$ is given by $<w,v_\\mu>=\\mu_p$: \n",
    "\n",
    "$$\n",
    "v_\\mu = \\Sigma^{-1}\\mu \\rightarrow <w,v_\\mu>= w^t \\Sigma (\\Sigma^{-1}\\mu) =  \\sum w_i \\mu_i = \\mu_p\n",
    "$$\n",
    "    \n",
    "Giving the **Portfolio with $\\mu_o$ Mean of Returns**  ($w_d$):\n",
    "\n",
    "$$\n",
    "w_{d} = \\frac{v_\\mu}{<v_\\mu,v_\\mu>} = \\frac{v_\\mu}{\\bar{z}^t \\Sigma^{-1}1}\n",
    "$$\n",
    "\n",
    "I could be useful to visualize a representation of ${\\rm I\\!R}^n$ where the blue line represents the portfolio hyperplane:\n",
    "\n",
    "![image.png](attachment:038d3f7e-5ee2-44ff-a5d4-a8c9881aad97.png)"
   ]
  },
  {
   "cell_type": "code",
   "execution_count": 3,
   "id": "08fd5c60-d42b-4a00-87a9-e9d612fd407d",
   "metadata": {},
   "outputs": [],
   "source": [
    "v1 = icov.sum(axis=1)\n",
    "wg = v1/v1.sum()\n",
    "\n",
    "vm = np.matmul(icov, mu)\n",
    "wd = vm/vm.sum()"
   ]
  },
  {
   "cell_type": "markdown",
   "id": "107f379e-6fa1-45e2-9734-a2a362de363a",
   "metadata": {},
   "source": [
    "Deriving the returns and variances of these portfolios is a straightforward process:\n",
    "\n",
    "$$\n",
    "\\mu_g = E(z) w_g^t \\quad , \\quad \\sigma^2_g = w_g^t \\Sigma w_g\n",
    "$$\n",
    "$$\n",
    "\\mu_d = E(z) w_d^t \\quad , \\quad \\sigma^2_d = w_d^t \\Sigma w_d\n",
    "$$\n"
   ]
  },
  {
   "cell_type": "code",
   "execution_count": 4,
   "id": "030d7fd9-710a-466b-81f6-a95535c2df8d",
   "metadata": {},
   "outputs": [],
   "source": [
    "zg = np.dot(np.transpose(mu), wg)\n",
    "varg = np.matmul(np.matmul(np.transpose(wg), cov), wg)\n",
    "\n",
    "zd = np.dot(np.transpose(mu), wd)\n",
    "vard = np.matmul(np.matmul(np.transpose(wd), cov), wd)"
   ]
  },
  {
   "cell_type": "markdown",
   "id": "1bc82311-5dc9-47fc-a056-e10289bf25cb",
   "metadata": {},
   "source": [
    "The shortest distance between a point and the intersection of two hyperplanes is in the direction given by a specific linear combination of the direction vectors. \n",
    "\n",
    "Therefore, the portfolios represented by $w_\\lambda$ have the minimum variance when the expected return is $\\mu = \\mu_\\lambda$.\n",
    "\n",
    "$$\n",
    "w_\\lambda = (1 - \\lambda) \\cdot w_g + \\lambda\\cdot w_d \n",
    "$$\n",
    "\n",
    "with returns and variances:\n",
    "\n",
    "$$ \\mu_\\lambda = \\mu_g + \\lambda \\cdot (\\mu_d - \\mu_g) $$\n",
    "\n",
    "$$ \\sigma^2_\\lambda = \\sigma^2_g + \\lambda^2 \\cdot (\\sigma^2_d - \\sigma^2_g) $$\n",
    "\n",
    "**Minimum Variance Portfolios** will be for $\\lambda \\in {\\rm I\\!R}$ and **Efficient Portfolios** for $\\lambda>0$."
   ]
  },
  {
   "cell_type": "code",
   "execution_count": 5,
   "id": "e8450c98-6a7a-41c4-bb41-729cfcdef664",
   "metadata": {},
   "outputs": [],
   "source": [
    "lamb = np.linspace(-2, 2, 400)"
   ]
  },
  {
   "cell_type": "code",
   "execution_count": 6,
   "id": "ba62b5ba-25e9-4960-b8f9-9c89274bcadb",
   "metadata": {},
   "outputs": [],
   "source": [
    "b_zlamb = zg + np.dot(lamb, (zd-zg))\n",
    "b_varlamb = varg + np.dot(lamb**2, (vard - varg))"
   ]
  },
  {
   "cell_type": "markdown",
   "id": "83b45ba0-329a-4422-9b7a-eb975293d2c2",
   "metadata": {},
   "source": [
    "### RFR Portfolio"
   ]
  },
  {
   "cell_type": "markdown",
   "id": "d90d95da-2e6a-487f-9f27-08ba1111502e",
   "metadata": {},
   "source": [
    "When incorporating the risk free rate $R$ some changes need to be made that will shift the final optimal portfolio outcome.\n",
    "\n",
    "The weights of the portfolio will be $w_p = w_r + w_s = 1$ where $w_r$ is the RFR weight and return $R$ and $w_s$ are the stock weights with return $\\mu$. \n",
    "\n",
    "Then the constrains are changed:\n",
    "1. $\\sum w_{s_{i}} = 1 - w_r$ \n",
    "2. $\\sum (\\mu_i - R) w_{s_{i}} = \\mu - R$\n",
    "\n",
    "Similar as before, using the inner product metric $\\Sigma$ and the optimization restricitions we can find the mathematical expressions for this approach:\n",
    "\n",
    "1. The **Global Minimum Variance Portfolio** is $w_g=w_r$\n",
    "\n",
    "2. The direction vector $v_t$ of the porfolio hyperplane with expected returns $\\mu$ is given by $<w,v_t>=\\mu - R$:\n",
    "\n",
    "$$\n",
    "v_t = \\Sigma^{-1}(\\mu-r) \\rightarrow <w,v_1>= w^t \\Sigma (\\Sigma^{-1}(\\mu-r)) = \\sum (\\mu_i - R) w_{s_{i}} = \\mu - R\n",
    "$$\n",
    "\n",
    "Then the portfolio weights are\n",
    "$$\n",
    "w_t = \\frac{v_t}{1 - w_r} = \\frac{v_t}{\\sum w_{t_{i}}}\n",
    "$$\n",
    "with returns and variances\n",
    "$$\n",
    "\\mu_t = \\mu w_t^t \\quad , \\quad \\sigma^2_t = w_t^t \\Sigma w_t\n",
    "$$\n",
    "\n",
    "Therefore, the portfolios represented by $w_\\lambda$ have the minimum variance when the expected return is $\\mu = \\mu_\\lambda$.\n",
    "\n",
    "$$\n",
    "w_\\lambda = (1 - \\lambda) \\cdot w_r + \\lambda\\cdot w_t \\quad , \\quad \\mu_\\lambda = r + (\\mu_t-r) \\lambda  \\quad , \\quad \\sigma_\\lambda = \\lambda^2 \\sigma_t\n",
    "$$"
   ]
  },
  {
   "cell_type": "code",
   "execution_count": 7,
   "id": "f51fc178-0041-4940-bb4b-efc0c6e9d2b4",
   "metadata": {},
   "outputs": [],
   "source": [
    "vt = vm - R*v1\n",
    "wt = vt/vt.sum()\n",
    "\n",
    "zt = np.dot(np.transpose(mu), wt)\n",
    "vart = np.matmul(np.matmul(np.transpose(wt), cov), wt)\n",
    "\n",
    "zlamb = r + (zt-r) * lamb\n",
    "varlamb = lamb**2 * vart"
   ]
  },
  {
   "cell_type": "raw",
   "id": "30e3efe3-db5d-4518-b5e8-290b9a863780",
   "metadata": {
    "tags": []
   },
   "source": [
    "# Print the results of the variables\n",
    "variable_dict = {\n",
    "    'Variable': ['r', 'R', 'mu', 'cov', 'icov',\n",
    "                 'v1', 'vm', 'wg', 'wd', 'vt', 'wt',\n",
    "                 'zg', 'varg', 'zd', 'vard', 'zt', 'vart'],\n",
    "    'Value': [r, R, mu, cov, icov,\n",
    "              v1, vm, wg, wd, vt, wt,\n",
    "              zg, varg, zd, vard, zt, vart]\n",
    "}\n",
    "\n",
    "# Create a DataFrame from the dictionary\n",
    "variable_df = pd.DataFrame(variable_dict).set_index('Variable')\n",
    "variable_df.style.set_properties(**{'text-align': 'left'})"
   ]
  },
  {
   "cell_type": "markdown",
   "id": "83c9c024-70c8-496f-ad97-7cf3f8dba10c",
   "metadata": {},
   "source": [
    "## Optimal Portfolio\n",
    "\n",
    "From the set of efficient portfolios, investors can tailor their choices based on individual risk preferences and return objectives. The utility function, specific to each investor, plays a crucial role in this process. It helps determine the optimal portfolio by quantifying an investor's risk appetite and desired return profile.\n",
    "\n",
    "The utility function used in this project is:\n",
    "\n",
    "$$\n",
    "V(\\mu,\\sigma) = \\mu - 0.04*\\sigma^2\n",
    "$$\n",
    "\n",
    "From the set of **efficient portfolios** $w_\\lambda$, the one that maximizes the utility function this will be the **optimal portfolio** $w_o$. This is a unvariant optimization process where there's only one maximum."
   ]
  },
  {
   "cell_type": "markdown",
   "id": "6c17458c-29ef-4b75-bf17-ee000b66a2f1",
   "metadata": {},
   "source": [
    "### Basic Portfolio"
   ]
  },
  {
   "cell_type": "code",
   "execution_count": 8,
   "id": "2ca2099b-22ce-42c0-943f-25291280a32f",
   "metadata": {},
   "outputs": [
    {
     "name": "stdout",
     "output_type": "stream",
     "text": [
      "Optimal Lambda:  0.5563909774436091\n"
     ]
    },
    {
     "data": {
      "image/png": "[encoded data removed]",
      "text/plain": [
       "<Figure size 432x288 with 1 Axes>"
      ]
     },
     "metadata": {
      "needs_background": "light"
     },
     "output_type": "display_data"
    },
    {
     "name": "stdout",
     "output_type": "stream",
     "text": [
      "Optimal Portfolio Weights w/o R: \n",
      " [-0.01179935  0.18550066  0.44266421  0.19294013  0.10077813  0.08991622]\n"
     ]
    }
   ],
   "source": [
    "b_f = b_zlamb - 0.04*b_varlamb\n",
    "b_index = b_f.argmax()\n",
    "print(\"Optimal Lambda: \", lamb[b_index])\n",
    "\n",
    "plt.plot(lamb, b_f, c='gray')\n",
    "plt.axvline(x=lamb[b_index], c='red', linestyle='-.')\n",
    "\n",
    "plt.xlabel('Lambda')\n",
    "plt.ylabel('Utility Function')\n",
    "plt.show()\n",
    "\n",
    "# Optimal Portfolio Weights w/o R\n",
    "b_wo = wg + lamb[b_index]*(wd-wg)\n",
    "print(\"Optimal Portfolio Weights w/o R: \\n\", b_wo)"
   ]
  },
  {
   "cell_type": "markdown",
   "id": "bf470b90-67ca-4847-9ecf-f5549944302e",
   "metadata": {},
   "source": [
    "### RFR Portfolio"
   ]
  },
  {
   "cell_type": "code",
   "execution_count": 9,
   "id": "4f4a2cc9-8b2e-4b98-a7d8-56326a525956",
   "metadata": {},
   "outputs": [
    {
     "name": "stdout",
     "output_type": "stream",
     "text": [
      "Optimal Lambda:  0.48621553884711766\n"
     ]
    },
    {
     "data": {
      "image/png": "[encoded data removed]",
      "text/plain": [
       "<Figure size 432x288 with 1 Axes>"
      ]
     },
     "metadata": {
      "needs_background": "light"
     },
     "output_type": "display_data"
    },
    {
     "name": "stdout",
     "output_type": "stream",
     "text": [
      "Optimal Portfolio Weights: \n",
      " R: 0.5137844611528823 [0.13946664 0.04014601 0.05911913 0.07977087 0.15311503 0.01459787]\n"
     ]
    }
   ],
   "source": [
    "f = zlamb - 0.04*varlamb\n",
    "index = f.argmax()\n",
    "print(\"Optimal Lambda: \", lamb[index])\n",
    "\n",
    "plt.plot(lamb, f, c='gray')\n",
    "plt.axvline(x=lamb[index], c='red', linestyle='-.')\n",
    "\n",
    "plt.xlabel('Lambda')\n",
    "plt.ylabel('Utility Function')\n",
    "plt.show()\n",
    "\n",
    "# Optimal Portfolio Weights\n",
    "wo = lamb[index]*wt\n",
    "print(\"Optimal Portfolio Weights: \\n\", f\"R: {(1-lamb[index])}\", wo)"
   ]
  },
  {
   "cell_type": "markdown",
   "id": "b4497fec-fbf5-48f3-a0a3-feef53bc75a2",
   "metadata": {},
   "source": [
    "## Plot Portfolios"
   ]
  },
  {
   "cell_type": "code",
   "execution_count": 10,
   "id": "71c71796-a1e2-4309-a6a3-171b18ce04cb",
   "metadata": {},
   "outputs": [
    {
     "data": {
      "image/png": "[encoded data removed]",
      "text/plain": [
       "<Figure size 864x576 with 1 Axes>"
      ]
     },
     "metadata": {
      "needs_background": "light"
     },
     "output_type": "display_data"
    }
   ],
   "source": [
    "plt.figure(figsize=(12, 8))\n",
    "\n",
    "# Minimum Variance w/o R\n",
    "plt.plot(np.sqrt(b_varlamb), b_zlamb, c='gray',\n",
    "         label='Basic Minimum Variance')\n",
    "\n",
    "# Efficient Frontier w/o R\n",
    "plt.plot(np.sqrt(np.split(b_varlamb, 2)[1]), np.split(b_zlamb, 2)[1], c='blue',\n",
    "         label='Basic Efficient Frontier')\n",
    "\n",
    "# Efficient Frontier\n",
    "plt.plot(np.sqrt(np.split(varlamb, 2)[1]), np.split(zlamb, 2)[1], c='green',\n",
    "         label='RFR Efficient Frontier')\n",
    "\n",
    "# Stocks\n",
    "variances = cov.diagonal()\n",
    "plt.scatter(np.sqrt(variances), mu, c='black', marker='+', s=100,\n",
    "            label='Individual Stocks')\n",
    "\n",
    "# Optimal Porfolio w/o R\n",
    "plt.scatter(np.sqrt(b_varlamb[b_index]), b_zlamb[b_index], c='blue', s=100)\n",
    "plt.text(np.sqrt(b_varlamb[b_index]), 1.1*b_zlamb[b_index], f'Basic Optimal Portfolio', ha='right', weight='bold')\n",
    "\n",
    "# Optimal Portfolio\n",
    "plt.scatter(np.sqrt(varlamb[index]), zlamb[index], c='green', s=100)\n",
    "plt.text(np.sqrt(varlamb[index]), 1.1*zlamb[index], f'RFR Optimal Portfolio', ha='right', weight='bold')\n",
    "\n",
    "# Utility Function Curves\n",
    "x_values = np.linspace(-10, 10, 100)\n",
    "y_values = b_f[b_index] + 0.04 * x_values**2\n",
    "plt.plot(x_values, y_values, c='red', alpha=0.3)\n",
    "y_values = f[index] + 0.04 * x_values**2\n",
    "plt.plot(x_values, y_values, c='red', alpha=0.3, label='Utility Function Curves')\n",
    "\n",
    "plt.xlim(0, 7)\n",
    "plt.ylim(-0.05,1.2)\n",
    "plt.xlabel('Std.')\n",
    "plt.ylabel('Expected Returns')\n",
    "plt.legend()\n",
    "\n",
    "plt.show()"
   ]
  },
  {
   "cell_type": "markdown",
   "id": "8ad7fdae-35b3-47ac-937c-5f494932483b",
   "metadata": {},
   "source": [
    "## Risk Decomposition"
   ]
  },
  {
   "cell_type": "markdown",
   "id": "ed17678b-0222-4725-947a-d10eed326598",
   "metadata": {},
   "source": [
    "### Basic Portfolio\n",
    "The risk of a portfolio without risk free rate can be decomposed as following:\n",
    "1. **Inevitable**: Is the global minimum variance portfolio risk $\\sigma_g$.\n",
    "2. **Systematic**: Is the risk associated to the expected return.\n",
    "3. **Diversifiable**: Is the differance between the portofio and an efficient portfolio with the same expected return. This is evitable."
   ]
  },
  {
   "cell_type": "code",
   "execution_count": 11,
   "id": "9768d493-0b38-4937-b937-f391c433227f",
   "metadata": {},
   "outputs": [],
   "source": [
    "b_risk_decomp = pd.DataFrame(columns=['Mu', 'Var', 'Lambda',\n",
    "                                      'Inevitable', 'Efficient',\n",
    "                                      'Systematic', 'Diversifiable'])"
   ]
  },
  {
   "cell_type": "code",
   "execution_count": 12,
   "id": "3f62a01c-e3c8-443f-8ddd-a3d5cdd4ce37",
   "metadata": {},
   "outputs": [],
   "source": [
    "b_risk_decomp['Mu'] = mu\n",
    "b_risk_decomp['Var'] = variances\n",
    "b_risk_decomp['Lambda'] = (mu-zg)/(zd-zg)\n",
    "b_risk_decomp['Efficient'] = varg + b_risk_decomp['Lambda']**2*(vard-varg) # Risk if it was an efficient portfolio\n",
    "b_risk_decomp['Inevitable'] = varg\n",
    "b_risk_decomp['Systematic'] = b_risk_decomp['Efficient'] - b_risk_decomp['Inevitable']\n",
    "b_risk_decomp['Diversifiable'] = b_risk_decomp['Var'] - b_risk_decomp['Efficient']"
   ]
  },
  {
   "cell_type": "code",
   "execution_count": 13,
   "id": "7a06171d-b554-4ca4-a6f1-b463ac665c2b",
   "metadata": {},
   "outputs": [],
   "source": [
    "b_wo_row ={'Mu': b_zlamb[b_index],\n",
    "            'Var': b_varlamb[b_index],\n",
    "            'Lambda': lamb[b_index],\n",
    "            'Inevitable': varg,\n",
    "            'Efficient': varg + b_zlamb[b_index]**2*(vard-varg),\n",
    "            'Systematic': (b_varlamb[b_index]-varg),\n",
    "            'Diversifiable': 0}\n",
    "b_wo_row = pd.DataFrame(b_wo_row, index=['b_wo'])\n",
    "b_risk_decomp = pd.concat([b_risk_decomp, b_wo_row])"
   ]
  },
  {
   "cell_type": "code",
   "execution_count": 14,
   "id": "285d2327-7b9e-45b2-8d11-17c87049d384",
   "metadata": {},
   "outputs": [
    {
     "data": {
      "text/html": [
       "<div>\n",
       "<style scoped>\n",
       "    .dataframe tbody tr th:only-of-type {\n",
       "        vertical-align: middle;\n",
       "    }\n",
       "\n",
       "    .dataframe tbody tr th {\n",
       "        vertical-align: top;\n",
       "    }\n",
       "\n",
       "    .dataframe thead th {\n",
       "        text-align: right;\n",
       "    }\n",
       "</style>\n",
       "<table border=\"1\" class=\"dataframe\">\n",
       "  <thead>\n",
       "    <tr style=\"text-align: right;\">\n",
       "      <th></th>\n",
       "      <th>Mu</th>\n",
       "      <th>Var</th>\n",
       "      <th>Lambda</th>\n",
       "      <th>Inevitable</th>\n",
       "      <th>Efficient</th>\n",
       "      <th>Systematic</th>\n",
       "      <th>Diversifiable</th>\n",
       "    </tr>\n",
       "  </thead>\n",
       "  <tbody>\n",
       "    <tr>\n",
       "      <th>0</th>\n",
       "      <td>1.130000</td>\n",
       "      <td>37.58000</td>\n",
       "      <td>1.479616</td>\n",
       "      <td>7.621988</td>\n",
       "      <td>34.162799</td>\n",
       "      <td>26.540811</td>\n",
       "      <td>3.417201</td>\n",
       "    </tr>\n",
       "    <tr>\n",
       "      <th>1</th>\n",
       "      <td>0.760000</td>\n",
       "      <td>23.80000</td>\n",
       "      <td>0.789278</td>\n",
       "      <td>7.621988</td>\n",
       "      <td>15.174242</td>\n",
       "      <td>7.552254</td>\n",
       "      <td>8.625758</td>\n",
       "    </tr>\n",
       "    <tr>\n",
       "      <th>2</th>\n",
       "      <td>0.410000</td>\n",
       "      <td>10.47000</td>\n",
       "      <td>0.136256</td>\n",
       "      <td>7.621988</td>\n",
       "      <td>7.847064</td>\n",
       "      <td>0.225076</td>\n",
       "      <td>2.622936</td>\n",
       "    </tr>\n",
       "    <tr>\n",
       "      <th>3</th>\n",
       "      <td>0.820000</td>\n",
       "      <td>25.30000</td>\n",
       "      <td>0.901225</td>\n",
       "      <td>7.621988</td>\n",
       "      <td>17.468505</td>\n",
       "      <td>9.846517</td>\n",
       "      <td>7.831495</td>\n",
       "    </tr>\n",
       "    <tr>\n",
       "      <th>4</th>\n",
       "      <td>1.130000</td>\n",
       "      <td>38.22000</td>\n",
       "      <td>1.479616</td>\n",
       "      <td>7.621988</td>\n",
       "      <td>34.162799</td>\n",
       "      <td>26.540811</td>\n",
       "      <td>4.057201</td>\n",
       "    </tr>\n",
       "    <tr>\n",
       "      <th>5</th>\n",
       "      <td>0.600000</td>\n",
       "      <td>23.31000</td>\n",
       "      <td>0.490754</td>\n",
       "      <td>7.621988</td>\n",
       "      <td>10.541726</td>\n",
       "      <td>2.919738</td>\n",
       "      <td>12.768274</td>\n",
       "    </tr>\n",
       "    <tr>\n",
       "      <th>b_wo</th>\n",
       "      <td>0.635179</td>\n",
       "      <td>11.37497</td>\n",
       "      <td>0.556391</td>\n",
       "      <td>7.621988</td>\n",
       "      <td>12.513119</td>\n",
       "      <td>3.752982</td>\n",
       "      <td>0.000000</td>\n",
       "    </tr>\n",
       "  </tbody>\n",
       "</table>\n",
       "</div>"
      ],
      "text/plain": [
       "            Mu       Var    Lambda  Inevitable  Efficient  Systematic  \\\n",
       "0     1.130000  37.58000  1.479616    7.621988  34.162799   26.540811   \n",
       "1     0.760000  23.80000  0.789278    7.621988  15.174242    7.552254   \n",
       "2     0.410000  10.47000  0.136256    7.621988   7.847064    0.225076   \n",
       "3     0.820000  25.30000  0.901225    7.621988  17.468505    9.846517   \n",
       "4     1.130000  38.22000  1.479616    7.621988  34.162799   26.540811   \n",
       "5     0.600000  23.31000  0.490754    7.621988  10.541726    2.919738   \n",
       "b_wo  0.635179  11.37497  0.556391    7.621988  12.513119    3.752982   \n",
       "\n",
       "      Diversifiable  \n",
       "0          3.417201  \n",
       "1          8.625758  \n",
       "2          2.622936  \n",
       "3          7.831495  \n",
       "4          4.057201  \n",
       "5         12.768274  \n",
       "b_wo       0.000000  "
      ]
     },
     "execution_count": 14,
     "metadata": {},
     "output_type": "execute_result"
    }
   ],
   "source": [
    "b_risk_decomp"
   ]
  },
  {
   "cell_type": "markdown",
   "id": "931db9eb-6fa8-4b46-8112-d7f319459c17",
   "metadata": {},
   "source": [
    "### RFR Portfolio\n",
    "The risk of a portfolio with risk free rate can be decomposed as following:\n",
    "1. **Inevitable**: Since there is a RFR all risk is evitable.\n",
    "2. **Systematic**: Is the risk associated to the expected return.\n",
    "3. **Diversifiable**: Is the differance between the portofio and an efficient portfolio with the same expected return. This is evitable."
   ]
  },
  {
   "cell_type": "code",
   "execution_count": 15,
   "id": "0849fff4-7f39-4c5b-89cc-14955635ce15",
   "metadata": {},
   "outputs": [],
   "source": [
    "risk_decomp = pd.DataFrame(columns=['Mu', 'Var', 'Lambda',\n",
    "                                    'Inevitable', 'Efficient',\n",
    "                                    'Systematic', 'Diversifiable'])"
   ]
  },
  {
   "cell_type": "code",
   "execution_count": 16,
   "id": "e0c9605a-241b-43e0-8939-89d6ad79feae",
   "metadata": {},
   "outputs": [],
   "source": [
    "risk_decomp['Mu'] = mu\n",
    "risk_decomp['Var'] = variances\n",
    "risk_decomp['Lambda'] = (mu-R)/(zt-R)\n",
    "risk_decomp['Efficient'] = risk_decomp['Lambda']**2*(vart)\n",
    "risk_decomp['Inevitable'] = \"-\"\n",
    "risk_decomp['Systematic'] = risk_decomp['Efficient']\n",
    "risk_decomp['Diversifiable'] = risk_decomp['Var'] - risk_decomp['Efficient']"
   ]
  },
  {
   "cell_type": "code",
   "execution_count": 17,
   "id": "da6c5543-df21-4ea7-b811-4fae8f5b1f56",
   "metadata": {},
   "outputs": [],
   "source": [
    "wo_row ={'Mu': zlamb[index],\n",
    "         'Var': varlamb[index],\n",
    "         'Lambda': lamb[index],\n",
    "         'Inevitable': \"-\",\n",
    "         'Efficient': lamb[index]**2*vart,\n",
    "         'Systematic': lamb[index]**2*vart,\n",
    "         'Diversifiable': 0}\n",
    "wo_row = pd.DataFrame(wo_row, index=['wo'])\n",
    "risk_decomp = pd.concat([risk_decomp, wo_row])"
   ]
  },
  {
   "cell_type": "code",
   "execution_count": 18,
   "id": "eb7bbc7d-e51a-4cad-b41e-13c62b639792",
   "metadata": {},
   "outputs": [
    {
     "data": {
      "text/html": [
       "<div>\n",
       "<style scoped>\n",
       "    .dataframe tbody tr th:only-of-type {\n",
       "        vertical-align: middle;\n",
       "    }\n",
       "\n",
       "    .dataframe tbody tr th {\n",
       "        vertical-align: top;\n",
       "    }\n",
       "\n",
       "    .dataframe thead th {\n",
       "        text-align: right;\n",
       "    }\n",
       "</style>\n",
       "<table border=\"1\" class=\"dataframe\">\n",
       "  <thead>\n",
       "    <tr style=\"text-align: right;\">\n",
       "      <th></th>\n",
       "      <th>Mu</th>\n",
       "      <th>Var</th>\n",
       "      <th>Lambda</th>\n",
       "      <th>Inevitable</th>\n",
       "      <th>Efficient</th>\n",
       "      <th>Systematic</th>\n",
       "      <th>Diversifiable</th>\n",
       "    </tr>\n",
       "  </thead>\n",
       "  <tbody>\n",
       "    <tr>\n",
       "      <th>0</th>\n",
       "      <td>1.130000</td>\n",
       "      <td>37.580000</td>\n",
       "      <td>1.204244</td>\n",
       "      <td>-</td>\n",
       "      <td>33.689582</td>\n",
       "      <td>33.689582</td>\n",
       "      <td>3.890418</td>\n",
       "    </tr>\n",
       "    <tr>\n",
       "      <th>1</th>\n",
       "      <td>0.760000</td>\n",
       "      <td>23.800000</td>\n",
       "      <td>0.795464</td>\n",
       "      <td>-</td>\n",
       "      <td>14.699671</td>\n",
       "      <td>14.699671</td>\n",
       "      <td>9.100329</td>\n",
       "    </tr>\n",
       "    <tr>\n",
       "      <th>2</th>\n",
       "      <td>0.410000</td>\n",
       "      <td>10.470000</td>\n",
       "      <td>0.408780</td>\n",
       "      <td>-</td>\n",
       "      <td>3.881915</td>\n",
       "      <td>3.881915</td>\n",
       "      <td>6.588085</td>\n",
       "    </tr>\n",
       "    <tr>\n",
       "      <th>3</th>\n",
       "      <td>0.820000</td>\n",
       "      <td>25.300000</td>\n",
       "      <td>0.861753</td>\n",
       "      <td>-</td>\n",
       "      <td>17.251697</td>\n",
       "      <td>17.251697</td>\n",
       "      <td>8.048303</td>\n",
       "    </tr>\n",
       "    <tr>\n",
       "      <th>4</th>\n",
       "      <td>1.130000</td>\n",
       "      <td>38.220000</td>\n",
       "      <td>1.204244</td>\n",
       "      <td>-</td>\n",
       "      <td>33.689582</td>\n",
       "      <td>33.689582</td>\n",
       "      <td>4.530418</td>\n",
       "    </tr>\n",
       "    <tr>\n",
       "      <th>5</th>\n",
       "      <td>0.600000</td>\n",
       "      <td>23.310000</td>\n",
       "      <td>0.618694</td>\n",
       "      <td>-</td>\n",
       "      <td>8.892394</td>\n",
       "      <td>8.892394</td>\n",
       "      <td>14.417606</td>\n",
       "    </tr>\n",
       "    <tr>\n",
       "      <th>wo</th>\n",
       "      <td>0.480089</td>\n",
       "      <td>5.491921</td>\n",
       "      <td>0.486216</td>\n",
       "      <td>-</td>\n",
       "      <td>5.491921</td>\n",
       "      <td>5.491921</td>\n",
       "      <td>0.000000</td>\n",
       "    </tr>\n",
       "  </tbody>\n",
       "</table>\n",
       "</div>"
      ],
      "text/plain": [
       "          Mu        Var    Lambda Inevitable  Efficient  Systematic  \\\n",
       "0   1.130000  37.580000  1.204244          -  33.689582   33.689582   \n",
       "1   0.760000  23.800000  0.795464          -  14.699671   14.699671   \n",
       "2   0.410000  10.470000  0.408780          -   3.881915    3.881915   \n",
       "3   0.820000  25.300000  0.861753          -  17.251697   17.251697   \n",
       "4   1.130000  38.220000  1.204244          -  33.689582   33.689582   \n",
       "5   0.600000  23.310000  0.618694          -   8.892394    8.892394   \n",
       "wo  0.480089   5.491921  0.486216          -   5.491921    5.491921   \n",
       "\n",
       "    Diversifiable  \n",
       "0        3.890418  \n",
       "1        9.100329  \n",
       "2        6.588085  \n",
       "3        8.048303  \n",
       "4        4.530418  \n",
       "5       14.417606  \n",
       "wo       0.000000  "
      ]
     },
     "execution_count": 18,
     "metadata": {},
     "output_type": "execute_result"
    }
   ],
   "source": [
    "risk_decomp"
   ]
  }
 ],
 "metadata": {
  "kernelspec": {
   "display_name": "Python 3 (ipykernel)",
   "language": "python",
   "name": "python3"
  },
  "language_info": {
   "codemirror_mode": {
    "name": "ipython",
    "version": 3
   },
   "file_extension": ".py",
   "mimetype": "text/x-python",
   "name": "python",
   "nbconvert_exporter": "python",
   "pygments_lexer": "ipython3",
   "version": "3.9.11"
  }
 },
 "nbformat": 4,
 "nbformat_minor": 5
}
