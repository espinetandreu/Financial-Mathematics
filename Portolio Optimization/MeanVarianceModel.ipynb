{
 "cells": [
  {
   "cell_type": "markdown",
   "id": "b73ae027-0fa6-45c9-bc09-7d384a56aada",
   "metadata": {},
   "source": [
    "# Mean-Variance Model"
   ]
  },
  {
   "cell_type": "markdown",
   "id": "35834d92-52dc-4e5d-a8cc-d1bea89c7bdf",
   "metadata": {},
   "source": [
    "I will be using the follwing acronyms to refer to the two different types of portfolios:\n",
    "1. **Basic Portfolio**: Portfolio without Risk-Free Rate\n",
    "2. **RFR Portfolio**: Portfolio with Risk-Free Rate\n",
    " "
   ]
  },
  {
   "cell_type": "code",
   "execution_count": 1,
   "id": "39938dfb-3291-4d25-955d-4c58011426f6",
   "metadata": {},
   "outputs": [],
   "source": [
    "import numpy as np\n",
    "import pandas as pd\n",
    "import matplotlib.pyplot as plt"
   ]
  },
  {
   "cell_type": "code",
   "execution_count": 2,
   "id": "fcb448c5-61a7-4e6f-926e-3111ca86cd34",
   "metadata": {
    "tags": []
   },
   "outputs": [],
   "source": [
    "data = pd.read_csv('resources/MVM_data.csv')\n",
    "r = 0.04\n",
    "R = np.full(6, r)\n",
    "mu = data['mu'].to_numpy()\n",
    "cov = data.iloc[:, 2:].to_numpy()\n",
    "icov = np.linalg.inv(cov)"
   ]
  },
  {
   "cell_type": "code",
   "execution_count": 20,
   "id": "08fd5c60-d42b-4a00-87a9-e9d612fd407d",
   "metadata": {},
   "outputs": [],
   "source": [
    "v1 = icov.sum(axis=1)\n",
    "vm = np.matmul(icov, mu)\n",
    "wg = v1/v1.sum()\n",
    "wd = vm/vm.sum()\n",
    "\n",
    "vt = vm - R*v1\n",
    "wt = vt/vt.sum()"
   ]
  },
  {
   "cell_type": "code",
   "execution_count": 21,
   "id": "030d7fd9-710a-466b-81f6-a95535c2df8d",
   "metadata": {},
   "outputs": [],
   "source": [
    "zg = np.dot(np.transpose(mu), wg)\n",
    "zd = np.dot(np.transpose(mu), wd)\n",
    "varg = np.matmul(np.matmul(np.transpose(wg), cov), wg)\n",
    "vard = np.matmul(np.matmul(np.transpose(wd), cov), wd)\n",
    "\n",
    "zt = np.dot(np.transpose(mu), wt)\n",
    "vart = np.matmul(np.matmul(np.transpose(wt), cov), wt)"
   ]
  },
  {
   "cell_type": "code",
   "execution_count": 22,
   "id": "a98ca983-059a-45b3-a82e-db7a4bc74c93",
   "metadata": {
    "scrolled": true,
    "tags": []
   },
   "outputs": [
    {
     "data": {
      "text/html": [
       "<style type=\"text/css\">\n",
       "#T_3fe69_row0_col0, #T_3fe69_row1_col0, #T_3fe69_row2_col0, #T_3fe69_row3_col0, #T_3fe69_row4_col0, #T_3fe69_row5_col0, #T_3fe69_row6_col0, #T_3fe69_row7_col0, #T_3fe69_row8_col0, #T_3fe69_row9_col0, #T_3fe69_row10_col0, #T_3fe69_row11_col0, #T_3fe69_row12_col0, #T_3fe69_row13_col0, #T_3fe69_row14_col0, #T_3fe69_row15_col0, #T_3fe69_row16_col0 {\n",
       "  text-align: left;\n",
       "}\n",
       "</style>\n",
       "<table id=\"T_3fe69\">\n",
       "  <thead>\n",
       "    <tr>\n",
       "      <th class=\"blank level0\" >&nbsp;</th>\n",
       "      <th id=\"T_3fe69_level0_col0\" class=\"col_heading level0 col0\" >Value</th>\n",
       "    </tr>\n",
       "    <tr>\n",
       "      <th class=\"index_name level0\" >Variable</th>\n",
       "      <th class=\"blank col0\" >&nbsp;</th>\n",
       "    </tr>\n",
       "  </thead>\n",
       "  <tbody>\n",
       "    <tr>\n",
       "      <th id=\"T_3fe69_level0_row0\" class=\"row_heading level0 row0\" >r</th>\n",
       "      <td id=\"T_3fe69_row0_col0\" class=\"data row0 col0\" >0.040000</td>\n",
       "    </tr>\n",
       "    <tr>\n",
       "      <th id=\"T_3fe69_level0_row1\" class=\"row_heading level0 row1\" >R</th>\n",
       "      <td id=\"T_3fe69_row1_col0\" class=\"data row1 col0\" >[0.04 0.04 0.04 0.04 0.04 0.04]</td>\n",
       "    </tr>\n",
       "    <tr>\n",
       "      <th id=\"T_3fe69_level0_row2\" class=\"row_heading level0 row2\" >mu</th>\n",
       "      <td id=\"T_3fe69_row2_col0\" class=\"data row2 col0\" >[1.13 0.76 0.41 0.82 1.13 0.6 ]</td>\n",
       "    </tr>\n",
       "    <tr>\n",
       "      <th id=\"T_3fe69_level0_row3\" class=\"row_heading level0 row3\" >cov</th>\n",
       "      <td id=\"T_3fe69_row3_col0\" class=\"data row3 col0\" >[[37.58 22.54 11.07 22.85 31.   15.92]\n",
       " [22.54 23.8   6.16 14.9  20.58 12.47]\n",
       " [11.07  6.16 10.47  6.84 10.28  5.99]\n",
       " [22.85 14.9   6.84 25.3  21.87 12.16]\n",
       " [31.   20.58 10.28 21.87 38.22 17.  ]\n",
       " [15.92 12.47  5.99 12.16 17.   23.31]]</td>\n",
       "    </tr>\n",
       "    <tr>\n",
       "      <th id=\"T_3fe69_level0_row4\" class=\"row_heading level0 row4\" >icov</th>\n",
       "      <td id=\"T_3fe69_row4_col0\" class=\"data row4 col0\" >[[ 0.1252211  -0.04740973 -0.03641612 -0.03610885 -0.04642179  0.00189044]\n",
       " [-0.04740973  0.1051588   0.01181174 -0.00456428 -0.01158099 -0.01608499]\n",
       " [-0.03641612  0.01181174  0.14337668  0.00301264 -0.01224979 -0.01092927]\n",
       " [-0.03610885 -0.00456428  0.00301264  0.09527584 -0.01951833 -0.00913852]\n",
       " [-0.04642179 -0.01158099 -0.01224979 -0.01951833  0.09136813 -0.01540495]\n",
       " [ 0.00189044 -0.01608499 -0.01092927 -0.00913852 -0.01540495  0.0690244 ]]</td>\n",
       "    </tr>\n",
       "    <tr>\n",
       "      <th id=\"T_3fe69_level0_row5\" class=\"row_heading level0 row5\" >v1</th>\n",
       "      <td id=\"T_3fe69_row5_col0\" class=\"data row5 col0\" >[-0.03924496  0.03733054  0.09860588  0.0289585  -0.01380771  0.01935711]</td>\n",
       "    </tr>\n",
       "    <tr>\n",
       "      <th id=\"T_3fe69_level0_row6\" class=\"row_heading level0 row6\" >vm</th>\n",
       "      <td id=\"T_3fe69_row6_col0\" class=\"data row6 col0\" >[0.00960621 0.00471028 0.00868168 0.0075507  0.0117174  0.00194407]</td>\n",
       "    </tr>\n",
       "    <tr>\n",
       "      <th id=\"T_3fe69_level0_row7\" class=\"row_heading level0 row7\" >wg</th>\n",
       "      <td id=\"T_3fe69_row7_col0\" class=\"data row7 col0\" >[-0.2991246   0.28453295  0.7515728   0.22072136 -0.1052422   0.14753969]</td>\n",
       "    </tr>\n",
       "    <tr>\n",
       "      <th id=\"T_3fe69_level0_row8\" class=\"row_heading level0 row8\" >wd</th>\n",
       "      <td id=\"T_3fe69_row8_col0\" class=\"data row8 col0\" >[0.2172843  0.10654248 0.19637222 0.17079023 0.26503759 0.04397318]</td>\n",
       "    </tr>\n",
       "    <tr>\n",
       "      <th id=\"T_3fe69_level0_row9\" class=\"row_heading level0 row9\" >vt</th>\n",
       "      <td id=\"T_3fe69_row9_col0\" class=\"data row9 col0\" >[0.01117601 0.00321706 0.00473745 0.00639236 0.01226971 0.00116978]</td>\n",
       "    </tr>\n",
       "    <tr>\n",
       "      <th id=\"T_3fe69_level0_row10\" class=\"row_heading level0 row10\" >wt</th>\n",
       "      <td id=\"T_3fe69_row10_col0\" class=\"data row10 col0\" >[0.28684117 0.08256834 0.12159037 0.16406484 0.31491184 0.03002345]</td>\n",
       "    </tr>\n",
       "    <tr>\n",
       "      <th id=\"T_3fe69_level0_row11\" class=\"row_heading level0 row11\" >zg</th>\n",
       "      <td id=\"T_3fe69_row11_col0\" class=\"data row11 col0\" >0.336971</td>\n",
       "    </tr>\n",
       "    <tr>\n",
       "      <th id=\"T_3fe69_level0_row12\" class=\"row_heading level0 row12\" >varg</th>\n",
       "      <td id=\"T_3fe69_row12_col0\" class=\"data row12 col0\" >7.621988</td>\n",
       "    </tr>\n",
       "    <tr>\n",
       "      <th id=\"T_3fe69_level0_row13\" class=\"row_heading level0 row13\" >zd</th>\n",
       "      <td id=\"T_3fe69_row13_col0\" class=\"data row13 col0\" >0.872941</td>\n",
       "    </tr>\n",
       "    <tr>\n",
       "      <th id=\"T_3fe69_level0_row14\" class=\"row_heading level0 row14\" >vard</th>\n",
       "      <td id=\"T_3fe69_row14_col0\" class=\"data row14 col0\" >19.745163</td>\n",
       "    </tr>\n",
       "    <tr>\n",
       "      <th id=\"T_3fe69_level0_row15\" class=\"row_heading level0 row15\" >zt</th>\n",
       "      <td id=\"T_3fe69_row15_col0\" class=\"data row15 col0\" >0.945132</td>\n",
       "    </tr>\n",
       "    <tr>\n",
       "      <th id=\"T_3fe69_level0_row16\" class=\"row_heading level0 row16\" >vart</th>\n",
       "      <td id=\"T_3fe69_row16_col0\" class=\"data row16 col0\" >23.230929</td>\n",
       "    </tr>\n",
       "  </tbody>\n",
       "</table>\n"
      ],
      "text/plain": [
       "<pandas.io.formats.style.Styler at 0x7f132cec8e80>"
      ]
     },
     "execution_count": 22,
     "metadata": {},
     "output_type": "execute_result"
    }
   ],
   "source": [
    "variable_dict = {\n",
    "    'Variable': ['r', 'R', 'mu', 'cov', 'icov',\n",
    "                 'v1', 'vm', 'wg', 'wd', 'vt', 'wt',\n",
    "                 'zg', 'varg', 'zd', 'vard', 'zt', 'vart'],\n",
    "    'Value': [r, R, mu, cov, icov,\n",
    "              v1, vm, wg, wd, vt, wt,\n",
    "              zg, varg, zd, vard, zt, vart]\n",
    "}\n",
    "\n",
    "# Create a DataFrame from the dictionary\n",
    "variable_df = pd.DataFrame(variable_dict).set_index('Variable')\n",
    "variable_df.style.set_properties(**{'text-align': 'left'})"
   ]
  },
  {
   "cell_type": "markdown",
   "id": "83c9c024-70c8-496f-ad97-7cf3f8dba10c",
   "metadata": {},
   "source": [
    "## Utility Function"
   ]
  },
  {
   "cell_type": "code",
   "execution_count": 6,
   "id": "e8450c98-6a7a-41c4-bb41-729cfcdef664",
   "metadata": {},
   "outputs": [],
   "source": [
    "lamb = np.linspace(-2, 2, 400)"
   ]
  },
  {
   "cell_type": "markdown",
   "id": "6c17458c-29ef-4b75-bf17-ee000b66a2f1",
   "metadata": {},
   "source": [
    "### Basic Portfolio"
   ]
  },
  {
   "cell_type": "code",
   "execution_count": 7,
   "id": "2ca2099b-22ce-42c0-943f-25291280a32f",
   "metadata": {},
   "outputs": [
    {
     "name": "stdout",
     "output_type": "stream",
     "text": [
      "Optimal Lambda:  0.5563909774436091\n"
     ]
    },
    {
     "data": {
      "image/png": "[encoded data removed]",
      "text/plain": [
       "<Figure size 432x288 with 1 Axes>"
      ]
     },
     "metadata": {
      "needs_background": "light"
     },
     "output_type": "display_data"
    }
   ],
   "source": [
    "b_zlamb = zg + np.dot(lamb, (zd-zg))\n",
    "b_varlamb = varg + np.dot(lamb**2, (vard - varg))\n",
    "\n",
    "b_f = b_zlamb - 0.04*b_varlamb\n",
    "b_index = b_f.argmax()\n",
    "print(\"Optimal Lambda: \", lamb[b_index])\n",
    "\n",
    "plt.plot(lamb, b_f, c='gray')\n",
    "plt.axvline(x=lamb[b_index], c='red', linestyle='-.')\n",
    "\n",
    "plt.xlabel('Lambda')\n",
    "plt.ylabel('Utility Function')\n",
    "\n",
    "plt.show()"
   ]
  },
  {
   "cell_type": "markdown",
   "id": "bf470b90-67ca-4847-9ecf-f5549944302e",
   "metadata": {},
   "source": [
    "### RFR Portfolio"
   ]
  },
  {
   "cell_type": "code",
   "execution_count": 8,
   "id": "4f4a2cc9-8b2e-4b98-a7d8-56326a525956",
   "metadata": {},
   "outputs": [
    {
     "name": "stdout",
     "output_type": "stream",
     "text": [
      "Optimal Lambda:  0.48621553884711766\n"
     ]
    },
    {
     "data": {
      "image/png": "[encoded data removed]",
      "text/plain": [
       "<Figure size 432x288 with 1 Axes>"
      ]
     },
     "metadata": {
      "needs_background": "light"
     },
     "output_type": "display_data"
    }
   ],
   "source": [
    "zlamb = r + (zt-r) * lamb\n",
    "varlamb = lamb**2 * vart\n",
    "\n",
    "# Utility function\n",
    "f = zlamb - 0.04*varlamb\n",
    "index = f.argmax()\n",
    "print(\"Optimal Lambda: \", lamb[index])\n",
    "\n",
    "plt.plot(lamb, f, c='gray')\n",
    "plt.axvline(x=lamb[index], c='red', linestyle='-.')\n",
    "\n",
    "plt.xlabel('Lambda')\n",
    "plt.ylabel('Utility Function')\n",
    "\n",
    "plt.show()"
   ]
  },
  {
   "cell_type": "markdown",
   "id": "b4497fec-fbf5-48f3-a0a3-feef53bc75a2",
   "metadata": {},
   "source": [
    "## Plot Portfolios"
   ]
  },
  {
   "cell_type": "code",
   "execution_count": 9,
   "id": "71c71796-a1e2-4309-a6a3-171b18ce04cb",
   "metadata": {},
   "outputs": [
    {
     "name": "stdout",
     "output_type": "stream",
     "text": [
      "Optimal Portfolio Weights w/o R: \n",
      " [-0.01179935  0.18550066  0.44266421  0.19294013  0.10077813  0.08991622]\n",
      "Optimal Portfolio Weights: \n",
      " R: 0.5137844611528823 [0.13946664 0.04014601 0.05911913 0.07977087 0.15311503 0.01459787]\n"
     ]
    },
    {
     "data": {
      "image/png": "[encoded data removed]",
      "text/plain": [
       "<Figure size 864x576 with 1 Axes>"
      ]
     },
     "metadata": {
      "needs_background": "light"
     },
     "output_type": "display_data"
    }
   ],
   "source": [
    "plt.figure(figsize=(12, 8))\n",
    "\n",
    "# Frontier w/o R\n",
    "plt.plot(np.sqrt(b_varlamb), b_zlamb, c='gray')\n",
    "\n",
    "# Efficient Frontier w/o R\n",
    "plt.plot(np.sqrt(np.split(b_varlamb, 2)[1]), np.split(b_zlamb, 2)[1], c='aqua')\n",
    "\n",
    "# Efficient Frontier\n",
    "plt.plot(np.sqrt(np.split(varlamb, 2)[1]), np.split(zlamb, 2)[1], c='lime')\n",
    "\n",
    "# Stocks\n",
    "variances = cov.diagonal()\n",
    "plt.scatter(np.sqrt(variances), mu, c='black', marker='+')\n",
    "\n",
    "# Optimal Porfolio w/o R\n",
    "plt.scatter(np.sqrt(b_varlamb[b_index]), b_zlamb[b_index], c='blue')\n",
    "plt.text(np.sqrt(b_varlamb[b_index]), 1.1*b_zlamb[b_index], f'Optimal Portfolio w/o R', ha='right')\n",
    "\n",
    "# Optimal Portfolio\n",
    "plt.scatter(np.sqrt(varlamb[index]), zlamb[index], c='green')\n",
    "plt.text(np.sqrt(varlamb[index]), 1.1*zlamb[index], f'Optimal Portfolio w R', ha='right')\n",
    "\n",
    "# Optimal Portfolio Weights w/o R\n",
    "b_wo = wg + lamb[b_index]*(wd-wg)\n",
    "print(\"Optimal Portfolio Weights w/o R: \\n\", b_wo)\n",
    "\n",
    "# Optimal Portfolio Weights\n",
    "wo = lamb[index]*wt\n",
    "print(\"Optimal Portfolio Weights: \\n\", f\"R: {(1-lamb[index])}\", wo)\n",
    "\n",
    "plt.xlim(0, 8)\n",
    "plt.ylim(-0.5,1.5)\n",
    "plt.xlabel('Std.')\n",
    "plt.ylabel('Mean')\n",
    "\n",
    "plt.show()"
   ]
  },
  {
   "cell_type": "markdown",
   "id": "8ad7fdae-35b3-47ac-937c-5f494932483b",
   "metadata": {},
   "source": [
    "## Risk Decomposition"
   ]
  },
  {
   "cell_type": "markdown",
   "id": "ed17678b-0222-4725-947a-d10eed326598",
   "metadata": {},
   "source": [
    "### Basic Portfolio"
   ]
  },
  {
   "cell_type": "code",
   "execution_count": 10,
   "id": "9768d493-0b38-4937-b937-f391c433227f",
   "metadata": {},
   "outputs": [],
   "source": [
    "b_risk_decomp = pd.DataFrame(columns=['Mu', 'Var', 'Lambda', 'Inevitable', 'Efficient', 'Systematic', 'Diversifiable'])"
   ]
  },
  {
   "cell_type": "code",
   "execution_count": 11,
   "id": "3f62a01c-e3c8-443f-8ddd-a3d5cdd4ce37",
   "metadata": {},
   "outputs": [],
   "source": [
    "b_risk_decomp['Mu'] = mu\n",
    "b_risk_decomp['Var'] = variances\n",
    "b_risk_decomp['Lambda'] = (mu-zg)/(zd-zg)\n",
    "b_risk_decomp['Efficient'] = varg + b_risk_decomp['Lambda']**2*(vard-varg)\n",
    "b_risk_decomp['Inevitable'] = varg\n",
    "b_risk_decomp['Systematic'] = b_risk_decomp['Efficient'] - b_risk_decomp['Inevitable']\n",
    "b_risk_decomp['Diversifiable'] = b_risk_decomp['Var'] - b_risk_decomp['Efficient']"
   ]
  },
  {
   "cell_type": "code",
   "execution_count": 12,
   "id": "7a06171d-b554-4ca4-a6f1-b463ac665c2b",
   "metadata": {},
   "outputs": [],
   "source": [
    "b_wo_row ={'Mu': b_zlamb[b_index],\n",
    "            'Var': b_varlamb[b_index],\n",
    "            'Lambda': lamb[b_index],\n",
    "            'Inevitable': varg,\n",
    "            'Efficient': varg + b_zlamb[b_index]**2*(vard-varg),\n",
    "            'Systematic': (b_varlamb[b_index]-varg),\n",
    "            'Diversifiable': 0}\n",
    "b_wo_row = pd.DataFrame(b_wo_row, index=['b_wo'])\n",
    "b_risk_decomp = pd.concat([b_risk_decomp, b_wo_row])"
   ]
  },
  {
   "cell_type": "code",
   "execution_count": 13,
   "id": "285d2327-7b9e-45b2-8d11-17c87049d384",
   "metadata": {},
   "outputs": [
    {
     "data": {
      "text/html": [
       "<div>\n",
       "<style scoped>\n",
       "    .dataframe tbody tr th:only-of-type {\n",
       "        vertical-align: middle;\n",
       "    }\n",
       "\n",
       "    .dataframe tbody tr th {\n",
       "        vertical-align: top;\n",
       "    }\n",
       "\n",
       "    .dataframe thead th {\n",
       "        text-align: right;\n",
       "    }\n",
       "</style>\n",
       "<table border=\"1\" class=\"dataframe\">\n",
       "  <thead>\n",
       "    <tr style=\"text-align: right;\">\n",
       "      <th></th>\n",
       "      <th>Mu</th>\n",
       "      <th>Var</th>\n",
       "      <th>Lambda</th>\n",
       "      <th>Inevitable</th>\n",
       "      <th>Efficient</th>\n",
       "      <th>Systematic</th>\n",
       "      <th>Diversifiable</th>\n",
       "    </tr>\n",
       "  </thead>\n",
       "  <tbody>\n",
       "    <tr>\n",
       "      <th>0</th>\n",
       "      <td>1.130000</td>\n",
       "      <td>37.58000</td>\n",
       "      <td>1.479616</td>\n",
       "      <td>7.621988</td>\n",
       "      <td>34.162799</td>\n",
       "      <td>26.540811</td>\n",
       "      <td>3.417201</td>\n",
       "    </tr>\n",
       "    <tr>\n",
       "      <th>1</th>\n",
       "      <td>0.760000</td>\n",
       "      <td>23.80000</td>\n",
       "      <td>0.789278</td>\n",
       "      <td>7.621988</td>\n",
       "      <td>15.174242</td>\n",
       "      <td>7.552254</td>\n",
       "      <td>8.625758</td>\n",
       "    </tr>\n",
       "    <tr>\n",
       "      <th>2</th>\n",
       "      <td>0.410000</td>\n",
       "      <td>10.47000</td>\n",
       "      <td>0.136256</td>\n",
       "      <td>7.621988</td>\n",
       "      <td>7.847064</td>\n",
       "      <td>0.225076</td>\n",
       "      <td>2.622936</td>\n",
       "    </tr>\n",
       "    <tr>\n",
       "      <th>3</th>\n",
       "      <td>0.820000</td>\n",
       "      <td>25.30000</td>\n",
       "      <td>0.901225</td>\n",
       "      <td>7.621988</td>\n",
       "      <td>17.468505</td>\n",
       "      <td>9.846517</td>\n",
       "      <td>7.831495</td>\n",
       "    </tr>\n",
       "    <tr>\n",
       "      <th>4</th>\n",
       "      <td>1.130000</td>\n",
       "      <td>38.22000</td>\n",
       "      <td>1.479616</td>\n",
       "      <td>7.621988</td>\n",
       "      <td>34.162799</td>\n",
       "      <td>26.540811</td>\n",
       "      <td>4.057201</td>\n",
       "    </tr>\n",
       "    <tr>\n",
       "      <th>5</th>\n",
       "      <td>0.600000</td>\n",
       "      <td>23.31000</td>\n",
       "      <td>0.490754</td>\n",
       "      <td>7.621988</td>\n",
       "      <td>10.541726</td>\n",
       "      <td>2.919738</td>\n",
       "      <td>12.768274</td>\n",
       "    </tr>\n",
       "    <tr>\n",
       "      <th>b_wo</th>\n",
       "      <td>0.635179</td>\n",
       "      <td>11.37497</td>\n",
       "      <td>0.556391</td>\n",
       "      <td>7.621988</td>\n",
       "      <td>12.513119</td>\n",
       "      <td>3.752982</td>\n",
       "      <td>0.000000</td>\n",
       "    </tr>\n",
       "  </tbody>\n",
       "</table>\n",
       "</div>"
      ],
      "text/plain": [
       "            Mu       Var    Lambda  Inevitable  Efficient  Systematic  \\\n",
       "0     1.130000  37.58000  1.479616    7.621988  34.162799   26.540811   \n",
       "1     0.760000  23.80000  0.789278    7.621988  15.174242    7.552254   \n",
       "2     0.410000  10.47000  0.136256    7.621988   7.847064    0.225076   \n",
       "3     0.820000  25.30000  0.901225    7.621988  17.468505    9.846517   \n",
       "4     1.130000  38.22000  1.479616    7.621988  34.162799   26.540811   \n",
       "5     0.600000  23.31000  0.490754    7.621988  10.541726    2.919738   \n",
       "b_wo  0.635179  11.37497  0.556391    7.621988  12.513119    3.752982   \n",
       "\n",
       "      Diversifiable  \n",
       "0          3.417201  \n",
       "1          8.625758  \n",
       "2          2.622936  \n",
       "3          7.831495  \n",
       "4          4.057201  \n",
       "5         12.768274  \n",
       "b_wo       0.000000  "
      ]
     },
     "execution_count": 13,
     "metadata": {},
     "output_type": "execute_result"
    }
   ],
   "source": [
    "b_risk_decomp"
   ]
  },
  {
   "cell_type": "markdown",
   "id": "931db9eb-6fa8-4b46-8112-d7f319459c17",
   "metadata": {},
   "source": [
    "### RFR Portfolio"
   ]
  },
  {
   "cell_type": "code",
   "execution_count": 14,
   "id": "0849fff4-7f39-4c5b-89cc-14955635ce15",
   "metadata": {},
   "outputs": [],
   "source": [
    "risk_decomp = pd.DataFrame(columns=['Mu', 'Var', 'Lambda', 'Inevitable', 'Efficient', 'Systematic', 'Diversifiable'])"
   ]
  },
  {
   "cell_type": "code",
   "execution_count": 15,
   "id": "e0c9605a-241b-43e0-8939-89d6ad79feae",
   "metadata": {},
   "outputs": [],
   "source": [
    "risk_decomp['Mu'] = mu\n",
    "risk_decomp['Var'] = variances\n",
    "risk_decomp['Lambda'] = (mu-R)/(zt-R)\n",
    "risk_decomp['Efficient'] = risk_decomp['Lambda']**2*(vart)\n",
    "risk_decomp['Inevitable'] = \"-\"\n",
    "risk_decomp['Systematic'] = risk_decomp['Efficient']\n",
    "risk_decomp['Diversifiable'] = risk_decomp['Var'] - risk_decomp['Efficient']"
   ]
  },
  {
   "cell_type": "code",
   "execution_count": 16,
   "id": "da6c5543-df21-4ea7-b811-4fae8f5b1f56",
   "metadata": {},
   "outputs": [],
   "source": [
    "wo_row ={'Mu': zlamb[index],\n",
    "         'Var': varlamb[index],\n",
    "         'Lambda': lamb[index],\n",
    "         'Inevitable': \"-\",\n",
    "         'Efficient': lamb[index]**2*vart,\n",
    "         'Systematic': lamb[index]**2*vart,\n",
    "         'Diversifiable': 0}\n",
    "wo_row = pd.DataFrame(wo_row, index=['wo'])\n",
    "risk_decomp = pd.concat([risk_decomp, wo_row])"
   ]
  },
  {
   "cell_type": "code",
   "execution_count": 17,
   "id": "eb7bbc7d-e51a-4cad-b41e-13c62b639792",
   "metadata": {},
   "outputs": [
    {
     "data": {
      "text/html": [
       "<div>\n",
       "<style scoped>\n",
       "    .dataframe tbody tr th:only-of-type {\n",
       "        vertical-align: middle;\n",
       "    }\n",
       "\n",
       "    .dataframe tbody tr th {\n",
       "        vertical-align: top;\n",
       "    }\n",
       "\n",
       "    .dataframe thead th {\n",
       "        text-align: right;\n",
       "    }\n",
       "</style>\n",
       "<table border=\"1\" class=\"dataframe\">\n",
       "  <thead>\n",
       "    <tr style=\"text-align: right;\">\n",
       "      <th></th>\n",
       "      <th>Mu</th>\n",
       "      <th>Var</th>\n",
       "      <th>Lambda</th>\n",
       "      <th>Inevitable</th>\n",
       "      <th>Efficient</th>\n",
       "      <th>Systematic</th>\n",
       "      <th>Diversifiable</th>\n",
       "    </tr>\n",
       "  </thead>\n",
       "  <tbody>\n",
       "    <tr>\n",
       "      <th>0</th>\n",
       "      <td>1.130000</td>\n",
       "      <td>37.580000</td>\n",
       "      <td>1.204244</td>\n",
       "      <td>-</td>\n",
       "      <td>33.689582</td>\n",
       "      <td>33.689582</td>\n",
       "      <td>3.890418</td>\n",
       "    </tr>\n",
       "    <tr>\n",
       "      <th>1</th>\n",
       "      <td>0.760000</td>\n",
       "      <td>23.800000</td>\n",
       "      <td>0.795464</td>\n",
       "      <td>-</td>\n",
       "      <td>14.699671</td>\n",
       "      <td>14.699671</td>\n",
       "      <td>9.100329</td>\n",
       "    </tr>\n",
       "    <tr>\n",
       "      <th>2</th>\n",
       "      <td>0.410000</td>\n",
       "      <td>10.470000</td>\n",
       "      <td>0.408780</td>\n",
       "      <td>-</td>\n",
       "      <td>3.881915</td>\n",
       "      <td>3.881915</td>\n",
       "      <td>6.588085</td>\n",
       "    </tr>\n",
       "    <tr>\n",
       "      <th>3</th>\n",
       "      <td>0.820000</td>\n",
       "      <td>25.300000</td>\n",
       "      <td>0.861753</td>\n",
       "      <td>-</td>\n",
       "      <td>17.251697</td>\n",
       "      <td>17.251697</td>\n",
       "      <td>8.048303</td>\n",
       "    </tr>\n",
       "    <tr>\n",
       "      <th>4</th>\n",
       "      <td>1.130000</td>\n",
       "      <td>38.220000</td>\n",
       "      <td>1.204244</td>\n",
       "      <td>-</td>\n",
       "      <td>33.689582</td>\n",
       "      <td>33.689582</td>\n",
       "      <td>4.530418</td>\n",
       "    </tr>\n",
       "    <tr>\n",
       "      <th>5</th>\n",
       "      <td>0.600000</td>\n",
       "      <td>23.310000</td>\n",
       "      <td>0.618694</td>\n",
       "      <td>-</td>\n",
       "      <td>8.892394</td>\n",
       "      <td>8.892394</td>\n",
       "      <td>14.417606</td>\n",
       "    </tr>\n",
       "    <tr>\n",
       "      <th>wo</th>\n",
       "      <td>0.480089</td>\n",
       "      <td>5.491921</td>\n",
       "      <td>0.486216</td>\n",
       "      <td>-</td>\n",
       "      <td>5.491921</td>\n",
       "      <td>5.491921</td>\n",
       "      <td>0.000000</td>\n",
       "    </tr>\n",
       "  </tbody>\n",
       "</table>\n",
       "</div>"
      ],
      "text/plain": [
       "          Mu        Var    Lambda Inevitable  Efficient  Systematic  \\\n",
       "0   1.130000  37.580000  1.204244          -  33.689582   33.689582   \n",
       "1   0.760000  23.800000  0.795464          -  14.699671   14.699671   \n",
       "2   0.410000  10.470000  0.408780          -   3.881915    3.881915   \n",
       "3   0.820000  25.300000  0.861753          -  17.251697   17.251697   \n",
       "4   1.130000  38.220000  1.204244          -  33.689582   33.689582   \n",
       "5   0.600000  23.310000  0.618694          -   8.892394    8.892394   \n",
       "wo  0.480089   5.491921  0.486216          -   5.491921    5.491921   \n",
       "\n",
       "    Diversifiable  \n",
       "0        3.890418  \n",
       "1        9.100329  \n",
       "2        6.588085  \n",
       "3        8.048303  \n",
       "4        4.530418  \n",
       "5       14.417606  \n",
       "wo       0.000000  "
      ]
     },
     "execution_count": 17,
     "metadata": {},
     "output_type": "execute_result"
    }
   ],
   "source": [
    "risk_decomp"
   ]
  },
  {
   "cell_type": "code",
   "execution_count": null,
   "id": "8d7859ec-d9af-4a9f-9057-9e300d2bc9e6",
   "metadata": {},
   "outputs": [],
   "source": []
  }
 ],
 "metadata": {
  "kernelspec": {
   "display_name": "Python 3 (ipykernel)",
   "language": "python",
   "name": "python3"
  },
  "language_info": {
   "codemirror_mode": {
    "name": "ipython",
    "version": 3
   },
   "file_extension": ".py",
   "mimetype": "text/x-python",
   "name": "python",
   "nbconvert_exporter": "python",
   "pygments_lexer": "ipython3",
   "version": "3.9.11"
  }
 },
 "nbformat": 4,
 "nbformat_minor": 5
}
