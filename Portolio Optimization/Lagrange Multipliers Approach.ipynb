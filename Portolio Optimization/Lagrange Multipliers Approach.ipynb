{
 "cells": [
  {
   "cell_type": "markdown",
   "metadata": {},
   "source": [
    "# Lagrange Multipliers Approach to Markowitz"
   ]
  },
  {
   "cell_type": "markdown",
   "metadata": {
    "tags": []
   },
   "source": [
    "To find the minimum variance portfolio $\\min(\\sigma^2_p) = w^t \\Sigma w $ for a specific expected portfolio return $ r_p $, an optimization is performed with two constraints:\n",
    "\n",
    "1. **Weight Constraints:** $ \\sum w_i = 1 $ where $ w_i \\geq 0 $\n",
    "2. **Return Constraint:** $ \\sum w_i E(z_i) = r_p $, where $ E(z) = \\mu $\n",
    "\n",
    "### Lagrangian Formulation\n",
    "\n",
    "Using Lagrange multipliers, we obtain the Lagrangian in matrix form:\n",
    "\n",
    "$$ L = w^t \\Sigma w - \\lambda (w^t\\mu - r_p) - \\gamma (w^t\\hat{1} -1) $$\n",
    "\n",
    "The first partial derivatives with respect to $ w $, $ \\lambda $, and $ \\gamma $ are computed:\n",
    "\n",
    "$$ \\frac{\\partial L}{\\partial w} = 2 \\Sigma w - \\lambda \\mu -\\gamma 1 = 0 \\rightarrow \n",
    "\\mathbf {w = \\frac{1}{2} \\Sigma^{-1} (\\lambda \\mu + \\gamma \\hat{1})} $$\n",
    "\n",
    "$$ \\frac{\\partial L}{\\partial \\lambda} = w^t\\mu - r_p = 0 \\rightarrow \\mu^t w = r_p $$\n",
    "\n",
    "$$ \\frac{\\partial L}{\\partial \\gamma} = w^t\\hat{1} -1 = 0 \\rightarrow \\hat{1}^t w = 1 $$\n",
    "\n",
    "### System of Equations\n",
    "\n",
    "We end up with the following system of equations:\n",
    "\n",
    "$$ \\begin{cases}\n",
    "\\frac{1}{2}(\\mu^t \\Sigma^{-1} \\mu)\\lambda + (\\mu^t \\Sigma^{-1} \\hat{1})\\gamma = r_p  \\\\\n",
    "\\frac{1}{2}(\\hat{1}^t \\Sigma^{-1} \\mu)\\lambda + (\\hat{1}^{-1} \\Sigma^{-1} \\hat{1})\\gamma = 1 \n",
    "\\end{cases} $$\n",
    "\n",
    "Since $ \\Sigma^{-1} $ is symmetric, $ \\mu^t \\Sigma^{-1} \\hat{1} = \\hat{1}^t \\Sigma^{-1} \\mu $, resulting in:\n",
    "\n",
    "$$ \\begin{cases}\n",
    "\\frac{1}{2}(A\\lambda + B\\gamma) = r_p  \\\\\n",
    "\\frac{1}{2}(B\\lambda + C\\gamma) = 1 \n",
    "\\end{cases} $$\n",
    "\n",
    "Solving the 2-equation system, we find:\n",
    "\n",
    "$$ \\begin{pmatrix}\n",
    "\\lambda \\\\\n",
    "\\gamma\n",
    "\\end{pmatrix}\n",
    "= \\frac{2}{AC-B^2}\n",
    "\\begin{pmatrix}\n",
    "C & -B\\\\\n",
    "-B & A\n",
    "\\end{pmatrix}\n",
    "\\begin{pmatrix}\n",
    "r_p \\\\\n",
    "1\n",
    "\\end{pmatrix} $$\n",
    "\n",
    "$$ \\lambda = \\frac{2}{AC-B^2} (r_p C-B) \\quad , \\quad \\gamma = \\frac{2}{AC-B^2} (A -r_pB) $$\n",
    "\n",
    "### Portfolio weights, returns and risk\n",
    "\n",
    "Finally, the weights for the minimum variance portfolio are determined:\n",
    "\n",
    "$$ \\boxed{w = \\frac{1}{AC-B^2} \\Sigma^{-1} ((r_p C-B) \\mu + (A -r_p B) \\hat{1})} $$\n",
    "\n",
    "with returns and risk:\n",
    "$$\n",
    "\\boxed{r_p = w^t \\mu \\quad , \\quad \\sigma^2_p = w^t \\Sigma w}\n",
    "$$\n",
    "\n",
    "## Observations\n",
    "Notice that for the **Weight Constrains** we did not specify $ w_i \\geq 0 \\quad$!\n",
    "\n",
    "If there are inequality constraints, the Lagrange multipliers approach is not applicable. In such cases, the optimization problem becomes more general, and the Karush-Kuhn-Tucker conditions, which extend the method of Lagrange multipliers, can be employed. However, it's important to note that these conditions rarely yield nice closed-form expressions, as the resulting system of equations is much more involved.\n",
    "\n",
    "On this approach, the proposed weights wouldn't be applicable in the absence of opportunities for short-selling (negative weights), but they do highlight the theoretical potential to enhance return/risk optimization further.\n",
    "\n",
    "While it may appear tempting, it's crucial to recognize that short-selling is inherently risky and can incur significant costs. However, on the flip side, this small-scale experiment effectively showcased how the Lagrangian approach offers a more elegantly simplified method for problem-solving."
   ]
  },
  {
   "cell_type": "markdown",
   "metadata": {},
   "source": [
    "# Analytical Lagrange Multipliers Solution "
   ]
  },
  {
   "cell_type": "code",
   "execution_count": 20,
   "metadata": {},
   "outputs": [],
   "source": [
    "import numpy as np\n",
    "import matplotlib.pyplot as plt"
   ]
  },
  {
   "cell_type": "code",
   "execution_count": 21,
   "metadata": {},
   "outputs": [],
   "source": [
    "%store -r mu\n",
    "%store -r cov\n",
    "%store -r b_zlamb\n",
    "%store -r b_varlamb"
   ]
  },
  {
   "cell_type": "code",
   "execution_count": 22,
   "metadata": {},
   "outputs": [],
   "source": [
    "def lagrange_multipliers_sol(rp, cov, mu):\n",
    "    one_vector = np.ones(len(mu))\n",
    "    icov = np.linalg.inv(cov)\n",
    "    a = mu.T.dot(icov.dot(mu))\n",
    "    b = mu.T.dot(icov.dot(one_vector))\n",
    "    c = one_vector.T.dot(icov.dot(one_vector))\n",
    "    w = (1/(a*c - b**2)) * icov.dot(((c*rp-b)*mu + (a-b*rp)*one_vector))\n",
    "    z = np.dot(np.transpose(mu), w)\n",
    "    var = np.matmul(np.matmul(np.transpose(w), cov), w)\n",
    "    return w, z, var"
   ]
  },
  {
   "cell_type": "code",
   "execution_count": 23,
   "metadata": {},
   "outputs": [
    {
     "name": "stdout",
     "output_type": "stream",
     "text": [
      "Example of portfolio weights (notice short-selling):\n",
      " [ 0.53240732 -0.00207085 -0.14242226  0.14032126  0.49098972 -0.01922518]\n"
     ]
    }
   ],
   "source": [
    "zp, varp = [], []\n",
    "for rp in np.linspace(0.1,1.2,11):\n",
    "    w, z, var = lagrange_multipliers_sol(rp, cov, mu)\n",
    "    zp.append(z)\n",
    "    varp.append(var)\n",
    "print('Example of portfolio weights (notice short-selling):\\n', w)"
   ]
  },
  {
   "cell_type": "markdown",
   "metadata": {},
   "source": [
    "## Compare with Geometric Solution"
   ]
  },
  {
   "cell_type": "code",
   "execution_count": 11,
   "metadata": {},
   "outputs": [
    {
     "data": {
      "image/png": "[encoded data removed]",
      "text/plain": [
       "<Figure size 864x576 with 1 Axes>"
      ]
     },
     "metadata": {
      "needs_background": "light"
     },
     "output_type": "display_data"
    }
   ],
   "source": [
    "plt.figure(figsize=(12, 8))\n",
    "\n",
    "# Minimum Variance w/o R\n",
    "plt.plot(np.sqrt(b_varlamb), b_zlamb, c='gray',\n",
    "         label='Basic Portfolio Minimum Variance')\n",
    "\n",
    "# Stocks\n",
    "variances = cov.diagonal()\n",
    "plt.scatter(np.sqrt(variances), mu, c='black', marker='+', s=100,\n",
    "            label='Individual Stocks')\n",
    "\n",
    "# Lagrangian Portfolios\n",
    "plt.scatter(np.sqrt(varp), zp, c='blue', marker='o', s=100,\n",
    "            label='Lagriangian Portfolios')\n",
    "\n",
    "plt.xlim(0, 7)\n",
    "plt.ylim(-0.05,1.3)\n",
    "plt.xlabel('Std.')\n",
    "plt.ylabel('Expected Returns')\n",
    "plt.legend()\n",
    "\n",
    "plt.show()"
   ]
  }
 ],
 "metadata": {
  "kernelspec": {
   "display_name": "Python 3 (ipykernel)",
   "language": "python",
   "name": "python3"
  },
  "language_info": {
   "codemirror_mode": {
    "name": "ipython",
    "version": 3
   },
   "file_extension": ".py",
   "mimetype": "text/x-python",
   "name": "python",
   "nbconvert_exporter": "python",
   "pygments_lexer": "ipython3",
   "version": "3.9.11"
  }
 },
 "nbformat": 4,
 "nbformat_minor": 4
}
