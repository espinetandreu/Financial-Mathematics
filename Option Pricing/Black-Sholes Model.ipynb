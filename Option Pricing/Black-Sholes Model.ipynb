{
 "cells": [
  {
   "cell_type": "markdown",
   "id": "b5a81577-0539-4847-950c-261bacf73513",
   "metadata": {
    "tags": []
   },
   "source": [
    "# Black-Scholes Model\n",
    "\n",
    "## Theoretical Concepts\n",
    "\n",
    "The Black-Scholes model is derived using Itô's lemma applied to a specific function of the Geometric Brownian Motion (GBM). The main idea is to consider the function representing the option price and then apply Itô's lemma to derive the stochastic differential equation (SDE) governing its dynamics.\n",
    "\n",
    "### Geometric Brownian Motion (GBM) Dynamics\n",
    "\n",
    "The underlying asset, $S_t$, follows a Geometric Brownian Motion (GBM) with drift $\\mu$ and volatility $\\sigma$:\n",
    "\n",
    "$$\n",
    "dS_t = \\mu S_t dt + \\sigma S_t dW_t\n",
    "$$\n",
    "\n",
    "### Option Price Dynamics\n",
    "\n",
    "The option price, denoted by $C(S, t)$, is a function of the underlying asset price $S$ and time $t$. The Black-Scholes model assumes a risk-free interest rate $r$.\n",
    "\n",
    "The dynamics of the option price can be represented as the second-order Taylor expansion:\n",
    "\n",
    "$$\n",
    "dC = \\frac{\\partial C}{\\partial t} dt + \\frac{\\partial C}{\\partial S} dS + \\frac{1}{2} \\frac{\\partial^2 C}{\\partial S^2} (dS)^2\n",
    "$$\n",
    "\n",
    "Applying Itô's lemma to the option price function $C(S, t)$, we have $(dW)^2=dt$:\n",
    "\n",
    "$$\n",
    "dC = \\frac{\\partial C}{\\partial t} dt + \\frac{\\partial C}{\\partial S} dS + \\frac{1}{2} \\frac{\\partial^2 C}{\\partial S^2} \\sigma^2 S^2 dt\n",
    "$$\n",
    "\n",
    "Now, substitute the GBM dynamics for $dS$:\n",
    "\n",
    "$$\n",
    "dC = \\left(\\frac{\\partial C}{\\partial t} + \\mu S \\frac{\\partial C}{\\partial S} + \\frac{1}{2} \\sigma^2 S^2 \\frac{\\partial^2 C}{\\partial S^2}\\right) dt + \\sigma S \\frac{\\partial C}{\\partial S} dW\n",
    "$$\n",
    "\n",
    "### Hedging Portfolio Dynamics\n",
    "\n",
    "To make the option risk-free, set up a hedging portfolio with the proportion $\\Delta$, representing the number of shares of the underlying asset to hold, and $M$, representing the amount invested in the risk-free asset. The dynamics of this portfolio can be given by:\n",
    "\n",
    "$$\n",
    "dM =  r M dt = dC - \\Delta dS\n",
    "$$\n",
    "\n",
    "Substituting the dynamics of $dS$ into $dM$, we get:\n",
    "\n",
    "$$\n",
    "r M dt = dC - \\Delta (\\mu S dt + \\sigma S dW)\n",
    "$$\n",
    "\n",
    "### Delta Hedging Strategy\n",
    "\n",
    "Now, equating the two expressions for $dC$, we can determine the hedging strategy $\\Delta$. \n",
    "\n",
    "$$\n",
    "\\Delta (\\mu S dt + \\sigma S dW) + r M dt = \\left(\\frac{\\partial C}{\\partial t} + \\mu S \\frac{\\partial C}{\\partial S} + \\frac{1}{2} \\sigma^2 S^2 \\frac{\\partial^2 C}{\\partial S^2}\\right) dt + \\sigma S \\frac{\\partial C}{\\partial S} dW\n",
    "$$\n",
    "\n",
    "We can construct a risk-free portfolio hedging agains uncertainty. Setting coefficients of $dW$ terms equal, we get:\n",
    "\n",
    "$$\n",
    "\\Delta = \\frac{\\partial C}{\\partial S}\n",
    "$$\n",
    "\n",
    "With this $\\Delta$ the terms in $dW$ will cancel out:\n",
    "\n",
    "$$\n",
    "(\\frac{\\partial C}{\\partial S}\\mu S + r M)dt = \\left(\\frac{\\partial C}{\\partial t} + \\mu S \\frac{\\partial C}{\\partial S} + \\frac{1}{2} \\sigma^2 S^2 \\frac{\\partial^2 C}{\\partial S^2}\\right) dt\n",
    "$$\n",
    "\n",
    "If we choose $M = C -\\frac{\\partial C}{\\partial S}S$ from the definition of the hedging portfolio, then the $dS$ terms in $dC$ will cancel out.\n",
    "\n",
    "Thus, we obtain the Black-Scholes partial differential equation (PDE) for a European call option:\n",
    "\n",
    "$$\n",
    "\\frac{\\partial C}{\\partial t} + rS\\frac{\\partial C}{\\partial S} + \\frac{1}{2} \\sigma^2 S^2 \\frac{\\partial^2 C}{\\partial S^2} - rC = 0\n",
    "$$\n",
    "\n",
    "### PDE Solution\n",
    "\n",
    "This PDE has the well-known closed-form analytical solution for a European call option:\n",
    "\n",
    "$$\n",
    "C(S, t) = S_0 N(d_1) - Ke^{-r(T - t)} N(d_2)\n",
    "$$\n",
    "\n",
    "where $d_1$ and $d_2$ are derived from the following equations:\n",
    "\n",
    "$$\n",
    "d_1 = \\frac{\\ln(S/K) + (r + \\frac{1}{2}\\sigma^2)(T - t)}{\\sigma \\sqrt{T - t}}\n",
    "$$\n",
    "\n",
    "$$\n",
    "d_2 = d_1 - \\sigma \\sqrt{T - t}\n",
    "$$\n",
    "\n",
    "Here, $N$ is the cumulative distribution function of the standard normal distribution. \n",
    "\n",
    "Notice that all the parameters except volatility $\\sigma$ are given by the market. The expected market volatility will be estimated with the implied volatility newthon's method. \n",
    "\n",
    "### Call-Put Parity\n",
    "\n",
    "In options trading, the **call-put parity** is a relationship between the prices of European call and put options with the same strike price (\\(K\\)) and expiration date (\\(T\\)). The call-put parity equation is given by:\n",
    "\n",
    "$$\n",
    "C - P = S - Ke^{-rT}\n",
    "$$\n",
    "\n",
    "This equation implies that the difference between the price of a European call option and a European put option with the same strike price and expiration date is equal to the difference between the current spot price of the underlying asset and the present value of the strike price.\n",
    "\n",
    "### Deficiencies\n",
    "\n",
    "The Black-Scholes model, revolutionary in options pricing, has limitations affecting its real-world applicability:\n",
    "\n",
    "1. **Constant Volatility Assumption:** The model assumes constant volatility, overlooking real-world volatility variations.\n",
    "\n",
    "2. **Normal Distribution of Returns:** Assumes normal distribution for returns, which may not hold during extreme market conditions.\n",
    "\n",
    "3. **Neglect of Dividends:** Ignores dividends, potentially leading to overestimation of option prices.\n",
    "\n",
    "4. **Constant Interest Rates:** Assumes a constant risk-free interest rate, not reflecting actual market dynamics.\n",
    "\n",
    "5. **European-Style Options:** Designed for European-style options, potentially inaccurate for American-style options.\n",
    "\n",
    "6. **Market Frictions, Transaction Costs, and Delta Hedging:** Does not consider transaction costs, market frictions, or discrete delta hedging.\n",
    "\n",
    "\n",
    "While the Black-Scholes model set the foundation for option pricing, its assumptions limit accuracy in certain scenarios. Traders must be mindful of these deficiencies, considering advanced models for accurate option pricing in complex financial environments.\n",
    "\n"
   ]
  },
  {
   "cell_type": "markdown",
   "id": "7f9aaccf-49ab-4611-b894-b0fc1080af62",
   "metadata": {},
   "source": [
    "## Analytical Solution\n",
    "\n",
    "Calculates the theoretical price of a European call or put option using the Black-Scholes model based on various input parameters.  "
   ]
  },
  {
   "cell_type": "code",
   "execution_count": 24,
   "id": "e4186fae-811f-4efb-87c6-4f5abc1d82fb",
   "metadata": {},
   "outputs": [],
   "source": [
    "import numpy as np\n",
    "import scipy.stats as st"
   ]
  },
  {
   "cell_type": "code",
   "execution_count": 25,
   "id": "f34395a7-c43b-4437-9c80-aa501cc4a488",
   "metadata": {},
   "outputs": [],
   "source": [
    "K = 120\n",
    "tau = 1\n",
    "r = 0.05\n",
    "S_0 = 100\n",
    "sigma = 0.5\n",
    "CP = \"call\""
   ]
  },
  {
   "cell_type": "code",
   "execution_count": 44,
   "id": "a7ca564f-3dae-4b9a-86e8-a11efd1295c1",
   "metadata": {},
   "outputs": [],
   "source": [
    "def BS_Call_Option_Price(CP, S_0, K, sigma, tau, r):\n",
    "    ''' Black-Scholes option price '''\n",
    "\n",
    "    d1 = (np.log(S_0 / float(K)) + (r + 0.5 * np.power(sigma,2.0)) * tau) / float(sigma * np.sqrt(tau))\n",
    "    d2 = d1 - sigma * np.sqrt(tau)\n",
    "    if str(CP).lower() == \"call\" or str(CP).lower() == \"1\":\n",
    "        value = st.norm.cdf(d1) * S_0 - st.norm.cdf(d2) * K * np.exp(-r * tau)\n",
    "    elif str(CP).lower() == \"put\" or str(CP).lower() == \"-1\":\n",
    "        value = st.norm.cdf(-d2) * K * np.exp(-r * tau) - st.norm.cdf(-d1)*S_0\n",
    "    return round(value, 2)"
   ]
  },
  {
   "cell_type": "code",
   "execution_count": 70,
   "id": "dc7a2e5e-75a3-4e98-86a6-d30b72b7f8a3",
   "metadata": {},
   "outputs": [
    {
     "name": "stdout",
     "output_type": "stream",
     "text": [
      "Option price for strike K=120,\n",
      "    maturity T= 1, interest rate r= 0.05,\n",
      "    initial stock S_0=100 and sigma = 0.5:\n",
      "14.78\n"
     ]
    }
   ],
   "source": [
    "print(f'''Option price for strike K={K},\n",
    "    maturity T= {tau}, interest rate r= {r},\n",
    "    initial stock S_0={S_0} and sigma = {round(sigma,4)}:\n",
    "{BS_Call_Option_Price(CP, S_0, K, sigma, tau, r)}''')"
   ]
  },
  {
   "cell_type": "code",
   "execution_count": 81,
   "id": "d5e23b59-d8f5-42eb-a38a-25592f821499",
   "metadata": {},
   "outputs": [],
   "source": [
    "## VALUE SURFACE! VALUE vs STRIKE vs TIME TO MATURITY"
   ]
  },
  {
   "cell_type": "markdown",
   "id": "3e69c989-e9f1-4bc9-bb4c-0f5b96013131",
   "metadata": {},
   "source": [
    "## Implied Volatility"
   ]
  },
  {
   "cell_type": "markdown",
   "id": "7ea8342a-a8fe-4b33-927d-1d8bc030188d",
   "metadata": {},
   "source": [
    "The goal is to find the implied volatility $\\sigma$ of a call option given its market price $V_{\\text{market}}$. The Black-Scholes model is employed to calculate the theoretical call option price $BS(\\sigma)$. The iterative process involves adjusting the implied volatility until the model's price matches the observed market price.\n",
    "\n",
    "### Newton's Method\n",
    "The objective function is to minimize the difference between the market price ($V_{\\text{market}}$) and the Black-Scholes call option price ($BS(\\sigma)$). The difference is defined as $g(\\sigma) = BS(\\sigma) - V_{\\text{market}}$.\n",
    "\n",
    "Using the first-order Taylor expansion of $g(\\sigma)$.\n",
    "$$\n",
    "g(\\sigma_{n+1}) \\approx g(\\sigma_n) + g'(\\sigma_n)(\\sigma_{n+1} - \\sigma_n)\n",
    "$$\n",
    "\n",
    "The Newton-Raphson iteration formula gives the iterative update of implied volatility ($\\sigma$) for finding the root of a differentiable function f(x)=0:\n",
    "$$\n",
    "\\sigma_{n+1} = \\sigma_n - \\frac{BS(\\sigma_n) - V_{\\text{market}}}{\\text{Vega}(\\sigma_n)} \n",
    "$$\n",
    "where $\\text{Vega}(\\sigma_n)$ is the derivative of the Black-Scholes call option price with respect to volatility.\n",
    "\n",
    "The iteration continues until the error is below a specified tolerance. Newton's method converges rapidly if the initial guess of implied volatility is close to the true root."
   ]
  },
  {
   "cell_type": "code",
   "execution_count": 71,
   "id": "bcf0eac2-0f49-4ef2-96f7-41baebf2514e",
   "metadata": {},
   "outputs": [],
   "source": [
    "sigmaInit = 0.25\n",
    "V_market = 2"
   ]
  },
  {
   "cell_type": "code",
   "execution_count": 72,
   "id": "863aa0c9-1f53-43d6-b7c6-a275aa1dabff",
   "metadata": {},
   "outputs": [],
   "source": [
    "def vega(S_0, K, sigma, tau, r):\n",
    "    ''' Calculates the value of vega(sigma) '''\n",
    "\n",
    "    d2 = (np.log(S_0 / float(K)) + (r - 0.5 * np.power(sigma,2.0)) * tau) / float(sigma * np.sqrt(tau))\n",
    "    value = K * np.exp(-r * tau) * st.norm.pdf(d2) * np.sqrt(tau)\n",
    "    return value"
   ]
  },
  {
   "cell_type": "code",
   "execution_count": 80,
   "id": "c8cb8e57-64b1-44c5-85b1-8374b02f5dac",
   "metadata": {},
   "outputs": [],
   "source": [
    "def ImpliedVolatility(CP, S_0, K, sigma, tau, r, V_market):\n",
    "    ''' Calculates the implied volatility using Newtons Method '''\n",
    "\n",
    "    # Initial error to be minimized\n",
    "    error = 1e10\n",
    "    while error > 10e-10:\n",
    "        g = BS_Call_Option_Price(CP, S_0, K, sigma, tau, r) - V_market\n",
    "        g_prim = vega(S_0, K, sigma, tau, r)\n",
    "        sigma_new = sigma - g / g_prim\n",
    "        error = abs(g)\n",
    "        sigma = sigma_new\n",
    "    return round(sigma, 4)"
   ]
  },
  {
   "cell_type": "code",
   "execution_count": 79,
   "id": "a5b27169-5d9e-46cf-ab07-b7a8ad5b01e6",
   "metadata": {},
   "outputs": [
    {
     "name": "stdout",
     "output_type": "stream",
     "text": [
      "Implied volatility for strike K=120,\n",
      "    maturity T= 1, interest rate r= 0.05,\n",
      "    initial stock S_0=100 and market value = 2:\n",
      "0.1615\n"
     ]
    }
   ],
   "source": [
    "print(f'''Implied volatility for strike K={K},\n",
    "    maturity T= {tau}, interest rate r= {r},\n",
    "    initial stock S_0={S_0} and market value = {V_market}:\n",
    "{ImpliedVolatility(CP, S_0, K, sigmaInit, tau, r, V_market)}''')"
   ]
  },
  {
   "cell_type": "code",
   "execution_count": null,
   "id": "2477555a-a604-4f5d-927e-b33adb451275",
   "metadata": {},
   "outputs": [],
   "source": [
    "## IMPLIED VOLATILITY SURFACE! IMPLIED VOLATILITY vs STRIKE vs TIME TO MATURITY"
   ]
  }
 ],
 "metadata": {
  "kernelspec": {
   "display_name": "Python 3 (ipykernel)",
   "language": "python",
   "name": "python3"
  },
  "language_info": {
   "codemirror_mode": {
    "name": "ipython",
    "version": 3
   },
   "file_extension": ".py",
   "mimetype": "text/x-python",
   "name": "python",
   "nbconvert_exporter": "python",
   "pygments_lexer": "ipython3",
   "version": "3.9.11"
  }
 },
 "nbformat": 4,
 "nbformat_minor": 5
}
